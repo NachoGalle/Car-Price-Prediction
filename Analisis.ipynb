{
 "cells": [
  {
   "cell_type": "code",
   "execution_count": 2,
   "id": "9c16378f-4ec3-45dd-a1d5-6c7e3ef7cc8c",
   "metadata": {},
   "outputs": [],
   "source": [
    "##Version español.\n",
    "##Voy a utilizar un dataframe que contiene informacion sobre distintos autos para generar modelos que predigan sus precios. Luego voy a seleccionar el mejor modelo.\n",
    "\n",
    "#Importo las librerias necesarias para el analisis\n",
    "\n",
    "import pandas as pd  \n",
    "import numpy as np\n",
    "import matplotlib as mpl\n",
    "import matplotlib.pyplot as plt"
   ]
  },
  {
   "cell_type": "code",
   "execution_count": null,
   "id": "8c650593-fa0a-42eb-9555-92f3e75d448a",
   "metadata": {},
   "outputs": [],
   "source": [
    "df = pd.csv_read(automobileEDA.csv)"
   ]
  }
 ],
 "metadata": {
  "kernelspec": {
   "display_name": "Python 3 (ipykernel)",
   "language": "python",
   "name": "python3"
  },
  "language_info": {
   "codemirror_mode": {
    "name": "ipython",
    "version": 3
   },
   "file_extension": ".py",
   "mimetype": "text/x-python",
   "name": "python",
   "nbconvert_exporter": "python",
   "pygments_lexer": "ipython3",
   "version": "3.9.13"
  }
 },
 "nbformat": 4,
 "nbformat_minor": 5
}
